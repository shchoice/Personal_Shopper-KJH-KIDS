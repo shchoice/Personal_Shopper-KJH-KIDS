{
 "cells": [
  {
   "cell_type": "code",
   "execution_count": 6,
   "metadata": {},
   "outputs": [],
   "source": [
    "import os\n",
    "import shutil"
   ]
  },
  {
   "cell_type": "code",
   "execution_count": 7,
   "metadata": {},
   "outputs": [],
   "source": [
    "def sub_dir(o_dir, n_dir):\n",
    "    \"\"\"\n",
    "    Arguments:\n",
    "    - o_dir: old directory. 뎁스 바꿔주고 싶은 이미지 폴더(루트)\n",
    "    e.g. '../../img/mmfashion'\n",
    "    \n",
    "    -n_dir: new directory. 새로운 폴더명. 아무거나 상관없음\n",
    "    e.g. '../../img/mmfashion_flow'\n",
    "    \n",
    "    Return:\n",
    "    없음\n",
    "    \n",
    "    \"\"\"\n",
    "    dirlist=os.listdir(o_dir)\n",
    "    for i in dirlist:\n",
    "        if not os.path.exists(n_dir):\n",
    "            os.mkdir(n_dir)\n",
    "        if not os.path.exists(n_dir+'/'+i):\n",
    "            os.mkdir(n_dir+'/'+i)\n",
    "        shutil.move(o_dir+\"/\"+i,n_dir+'/'+i)\n",
    "        \n",
    "sub_dir( './Img', './img_moved2')   "
   ]
  },
  {
   "cell_type": "code",
   "execution_count": null,
   "metadata": {},
   "outputs": [],
   "source": []
  }
 ],
 "metadata": {
  "kernelspec": {
   "display_name": "Python 3",
   "language": "python",
   "name": "python3"
  },
  "language_info": {
   "codemirror_mode": {
    "name": "ipython",
    "version": 3
   },
   "file_extension": ".py",
   "mimetype": "text/x-python",
   "name": "python",
   "nbconvert_exporter": "python",
   "pygments_lexer": "ipython3",
   "version": "3.6.5"
  }
 },
 "nbformat": 4,
 "nbformat_minor": 2
}
