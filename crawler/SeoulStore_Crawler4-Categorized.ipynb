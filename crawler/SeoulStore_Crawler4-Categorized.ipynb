{
 "cells": [
  {
   "cell_type": "markdown",
   "metadata": {},
   "source": [
    "# 서울스토어 크롤러4\n",
    "\n",
    "분류용 상품 이미지를 크롤링하기 위한 메타 정보 크롤러입니다. a.k.a \"통\" 만들기 사전작업\n",
    "\n",
    "서울스토어의 카테고리별 상품 정보(이미지, 상세정보 링크)를 크롤링하는 크롤러입니다. 크롤링 결과를 활용해서 상품 메타정보를 저장 + 상품 이미지(별도의 크롤러 활용)를 저장합니다.\n",
    "\n",
    "크롤링한 카테고리는 아래와 같습니다.\n",
    "- 상의 (super_category: 0)\n",
    "    - 티셔츠 (category: 0)\n",
    "        - 롱슬리브 (sub_category: 0)\n",
    "        - 숏슬리브 (sub_category: 1)\n",
    "        - 슬리브리스 (sub_category: 2)\n",
    "        - 크롭탑 (sub_category: 3)\n",
    "        - 폴로 셔츠 (sub_category: 4)\n",
    "    - 후디/스웨트셔츠 (category: 1)\n",
    "        - 후디 (sub_category: 5)\n",
    "        - 스웨트셔츠 (sub_category: 6)\n",
    "        - 집업후디 (sub_category: 7)\n",
    "    - 셔츠/블라우스 (category: 2)\n",
    "        - 롱 슬리브 (sub_category: 8)\n",
    "        - 숏 슬리브 (sub_category: 9)\n",
    "        - 블라우스 (sub_category: 10)\n",
    "    - 니트웨어 (category: 3)\n",
    "        - 라운드넥 (sub_category: 11)\n",
    "        - 브이넥 (sub_category: 12)\n",
    "        - 터틀넥 (sub_category: 13)\n",
    "        - 베스트 (sub_category: 14)\n",
    "        - 가디건 (sub_category: 15)\n",
    "- 하의 (super_category: 1)\n",
    "    - 스커트 (category: 4)\n",
    "        - 미니 (sub_category: 16)\n",
    "        - 미디/롱 (sub_category: 17)\n",
    "    - 팬츠 (category: 5)\n",
    "        - 치노 (sub_category: 18)\n",
    "        - 스웨트팬츠 (sub_category: 19)\n",
    "        - 스트레이트 (sub_category: 20)\n",
    "        - 와이드 (sub_category: 21)\n",
    "        - 스키니  (sub_category: 22)\n",
    "        - 부츠컷 (sub_category: 23)\n",
    "        - 쇼츠 (sub_category: 24)\n",
    "        - 레깅스 (sub_category: 25)\n",
    "    - 데님 (category: 6)\n",
    "        - 스트레이트 (sub_category: 26)\n",
    "        - 와이드 (sub_category: 27)\n",
    "        - 스키니 (sub_category: 28)\n",
    "        - 부츠컷 (sub_category: 29)\n",
    "        - 크롭 (sub_category: 30)\n",
    "        - 스커트 (sub_category: 31)\n",
    "        - 쇼츠 (sub_category: 32)\n",
    "- 원피스 (super_category: 2)\n",
    "    - 원피스 (category: 7)\n",
    "        - 미니 (sub_category: 33)\n",
    "        - 미디/맥시 (sub_category: 34)\n",
    "        - 드레스 (sub_category: 35)\n",
    "    - 오버올 (category: 8)\n",
    "        - 올인원 (sub_category: 36)\n",
    "        - 점프수트 (sub_category: 37)\n",
    "\n",
    "크롤링 결과는\n",
    "\n",
    "`{\"key\": 고유번호(5자리수), \n",
    "\"product_url\": 상품url, \n",
    "\"img_url\": 이미지url, \n",
    "\"super_category\": 상의0, 하의1, 원피스2, \n",
    "\"category\": 티셔츠0, ..., 오버올8, \n",
    "\"sub_category\": 롱슬리브0, ..., 점프수트37} `\n",
    "\n",
    "형태의 json 파일로 저장합니다."
   ]
  },
  {
   "cell_type": "markdown",
   "metadata": {},
   "source": [
    "# 1. 크롤러 및 카테고리 정의"
   ]
  },
  {
   "cell_type": "code",
   "execution_count": 1,
   "metadata": {
    "ExecuteTime": {
     "end_time": "2020-05-29T01:12:44.935736Z",
     "start_time": "2020-05-29T01:12:43.019888Z"
    }
   },
   "outputs": [],
   "source": [
    "from selenium import webdriver\n",
    "from selenium.webdriver.common.by import By\n",
    "from selenium.webdriver.support.ui import WebDriverWait\n",
    "from selenium.webdriver.support import expected_conditions as EC\n",
    "from selenium.webdriver.common.keys import Keys\n",
    "import pandas as pd\n",
    "import time\n",
    "import glob\n",
    "import json\n",
    "import os\n",
    "import re\n",
    "import sys\n",
    "import time\n",
    "import traceback\n",
    "from builtins import open\n",
    "from time import sleep"
   ]
  },
  {
   "cell_type": "code",
   "execution_count": 2,
   "metadata": {
    "ExecuteTime": {
     "end_time": "2020-05-29T02:37:34.226097Z",
     "start_time": "2020-05-29T02:37:34.206077Z"
    }
   },
   "outputs": [],
   "source": [
    "category_dict = {\n",
    "    1002: {\"super_category\": 0, \"category\": 0, \"sub_category\": 0, \"name\": \"롱슬리브\"},\n",
    "    1003: {\"super_category\": 0, \"category\": 0, \"sub_category\": 1, \"name\": \"숏슬리브\"},\n",
    "    1004: {\"super_category\": 0, \"category\": 0, \"sub_category\": 2, \"name\": \"슬리브리스\"},\n",
    "    1005: {\"super_category\": 0, \"category\": 0, \"sub_category\": 3, \"name\": \"크롭 탑\"},\n",
    "    1006: {\"super_category\": 0, \"category\": 0, \"sub_category\": 4, \"name\": \"폴로 셔츠\"},\n",
    "    1008: {\"super_category\": 0, \"category\": 1, \"sub_category\": 5, \"name\": \"후디\"},\n",
    "    1010: {\"super_category\": 0, \"category\": 1, \"sub_category\": 6, \"name\": \"스웨트셔츠\"},\n",
    "    1009: {\"super_category\": 0, \"category\": 1, \"sub_category\": 7, \"name\": \"집업후디\"},\n",
    "    1012: {\"super_category\": 0, \"category\": 2, \"sub_category\": 8, \"name\": \"롱 슬리브\"},\n",
    "    1013:{\"super_category\": 0, \"category\": 2, \"sub_category\": 9, \"name\": \"숏 슬리브\"},\n",
    "    1014: {\"super_category\": 0, \"category\": 2, \"sub_category\": 10, \"name\": \"블라우스\"},\n",
    "    1016: {\"super_category\": 0, \"category\": 3, \"sub_category\": 11, \"name\": \"라운드넥\" },\n",
    "    1017: {\"super_category\": 0, \"category\": 3, \"sub_category\": 12, \"name\": \"브이넥\"},\n",
    "    1018: {\"super_category\": 0, \"category\": 3, \"sub_category\": 13, \"name\": \"터틀넥\"},\n",
    "    1019: {\"super_category\": 0, \"category\": 3, \"sub_category\": 14, \"name\": \"베스트\"},\n",
    "    1020: {\"super_category\": 0, \"category\": 3, \"sub_category\": 15, \"name\": \"가디건\"},\n",
    "    \n",
    "    1025: {\"super_category\": 1, \"category\": 4, \"sub_category\": 16, \"name\": \"미니\"},\n",
    "    1026: {\"super_category\": 1, \"category\": 4, \"sub_category\": 17, \"name\": \"미디/롱\"},\n",
    "    1028: {\"super_category\": 1, \"category\": 5, \"sub_category\": 18, \"name\": \"치노\"},\n",
    "    1034: {\"super_category\": 1, \"category\": 5, \"sub_category\": 19, \"name\": \"스웨트팬츠\"},\n",
    "    1031: {\"super_category\": 1, \"category\": 5, \"sub_category\": 20, \"name\": \"스트레이트\"},\n",
    "    1032: {\"super_category\": 1, \"category\": 5, \"sub_category\": 21, \"name\": \"와이드\"},\n",
    "    1030: {\"super_category\": 1, \"category\": 5, \"sub_category\": 22, \"name\": \"스키니\"},\n",
    "    1033: {\"super_category\": 1, \"category\": 5, \"sub_category\": 23, \"name\": \"부츠컷\"},\n",
    "    1029: {\"super_category\": 1, \"category\": 5, \"sub_category\": 24, \"name\": \"쇼츠\"},\n",
    "    1035: {\"super_category\": 1, \"category\": 5, \"sub_category\": 25, \"name\": \"레깅스\"},\n",
    "    1040: {\"super_category\": 1, \"category\": 6, \"sub_category\": 26, \"name\": \"스트레이트\"},\n",
    "    1041: {\"super_category\": 1, \"category\": 6, \"sub_category\": 27, \"name\": \"와이드\"},\n",
    "    1039: {\"super_category\": 1, \"category\": 6, \"sub_category\": 28, \"name\": \"스키니\"},\n",
    "    1042: {\"super_category\": 1, \"category\": 6, \"sub_category\": 29, \"name\": \"부츠컷\"},\n",
    "    1043: {\"super_category\": 1, \"category\": 6, \"sub_category\": 30, \"name\": \"크롭\"},\n",
    "    1038: {\"super_category\": 1, \"category\": 6, \"sub_category\": 31, \"name\": \"스커트\"},\n",
    "    1037: {\"super_category\": 1, \"category\": 6, \"sub_category\": 32, \"name\": \"쇼츠\"},\n",
    "    \n",
    "    1022: {\"super_category\": 2, \"category\": 7, \"sub_category\": 33, \"name\": \"미니\"},\n",
    "    1023: {\"super_category\": 2, \"category\": 7, \"sub_category\": 34, \"name\": \"미디/맥시\"},\n",
    "    1273: {\"super_category\": 2, \"category\": 7, \"sub_category\": 35, \"name\": \"드레스\"},\n",
    "    1045: {\"super_category\": 2, \"category\": 8, \"sub_category\": 36, \"name\": \"올인원\"},\n",
    "    1046: {\"super_category\": 2, \"category\": 8, \"sub_category\": 37, \"name\": \"점프수트\"}\n",
    "}"
   ]
  },
  {
   "cell_type": "code",
   "execution_count": 17,
   "metadata": {
    "ExecuteTime": {
     "end_time": "2020-05-29T03:33:49.874449Z",
     "start_time": "2020-05-29T03:33:49.861413Z"
    }
   },
   "outputs": [],
   "source": [
    "def get_products(category_dict, num, filepath, wait_time, isfirst=True):\n",
    "    \n",
    "    \"\"\"\n",
    "    Arguments:\n",
    "    - category_dict: dict. 카테고리 고유번호: 카테고리 정보 키밸류 페어를 원소로 함\n",
    "    - num: int. url당 크롤링할 아이템 수\n",
    "    - filepath: str. 크롤링 결과를 저장할 json 파일 경로\n",
    "    - wait_time: int. 로딩을 몇 초까지 기다릴지\n",
    "    - isfirst: boolean. 첫 크롤링과 추가적인 크롤링 구분\n",
    "    \n",
    "    Return:\n",
    "    - 없음\n",
    "    \"\"\"\n",
    "    product_set = set()   #중복 크롤링 거르기 위한 셋. product_url을 원소로 함\n",
    "    \n",
    "    # 첫 크롤링이 아닐 경우, 기존의 json과 product_url(set) 저장\n",
    "    existing=''\n",
    "    if isfirst == False :\n",
    "        with open(filepath) as data_file:\n",
    "            existing = json.load(data_file)\n",
    "            count_existing = len(existing)\n",
    "        for e in existing :\n",
    "            product_set.add(e['product_url'])\n",
    "    \n",
    "    \n",
    "    browser = webdriver.Chrome('chromedriver')   #크롬 브라우저 실행\n",
    "    wait = WebDriverWait(browser, wait_time)\n",
    "    \n",
    "    print(time.strftime('start at %Y-%m-%d %I:%M:%S %p', time.localtime()))    \n",
    "    for cat in category_dict:\n",
    "        url = 'https://www.seoulstore.com/categories/{}/regDatetime/desc'.format(str(cat))\n",
    "        browser.get(url)\n",
    "        body = browser.find_element_by_tag_name('body')\n",
    "\n",
    "        # CASE 1 : 첫 크롤링\n",
    "        if isfirst == True : \n",
    "            count = 0    #더 이상 로드되는 데이터가 없을 시 크롤링 종료하기 위해 필요한 count임\n",
    "            prev_posts_count = 0\n",
    "            wait.until(EC.presence_of_element_located((By.CLASS_NAME, 'products_container')))  #페이지 로딩 기다림\n",
    "            time.sleep(2)\n",
    "            ele_posts = browser.find_element_by_class_name('products_container').find_elements_by_class_name('image_container')\n",
    "            \n",
    "            ##########추가한 부분###########\n",
    "            while len(ele_posts) < num:\n",
    "                body.send_keys(Keys.PAGE_DOWN)\n",
    "                ele_posts = browser.find_element_by_class_name('products_container').find_elements_by_class_name('image_container')\n",
    "    #             if len(ele_posts) % 100 == 0:\n",
    "    #                 print(len(ele_posts))\n",
    "\n",
    "                cur_posts_count = len(ele_posts)\n",
    "                if prev_posts_count == cur_posts_count:\n",
    "                    count += 1\n",
    "                else: count = 0\n",
    "                if count > 50:\n",
    "                        break\n",
    "\n",
    "                prev_posts_count = cur_posts_count\n",
    "            ##########추가한 부분 끝##########\n",
    "        \n",
    "        \n",
    "        # CASE 2 : 상품 업데이트 크롤링\n",
    "        else :\n",
    "            wait.until(EC.presence_of_element_located((By.CLASS_NAME, 'products_container')))  #페이지 로딩 기다림\n",
    "            body.send_keys(Keys.PAGE_DOWN)  #초기 로딩 안 될 때 있어서 한 번 스크롤\n",
    "            time.sleep(2)\n",
    "            ele_posts = browser.find_element_by_class_name('products_container').find_elements_by_class_name('image_container')\n",
    "            product_url_temp_first = ele_posts[0].find_element_by_tag_name('a').get_attribute('href')\n",
    "            if product_url_temp_first in product_set: print('{} is up to date'.format(category_dict[cat]['name']))\n",
    "            \n",
    "            while True:  # 여기서 num은 사용 안 함, 기존 상품이 이미 저장되어 있다는 전제 하에 기존 상품이 보일 때까지 무한\n",
    "                ele_posts = browser.find_element_by_class_name('products_container').find_elements_by_class_name('image_container')\n",
    "                product_url_temp_last = ele_posts[-1].find_element_by_tag_name('a').get_attribute('href')\n",
    "                \n",
    "                # 기존 상품이 보일 시\n",
    "                if product_url_temp_last in product_set: break\n",
    "                \n",
    "                #기존 상품이 안 보일 시 더 스크롤\n",
    "                else: _=[body.send_keys(Keys.PAGE_DOWN) for _ in range(5)]\n",
    "            \n",
    "            \n",
    "        \n",
    "        \n",
    "        cat_post_count = 0   #카테고리별 크롤링된 아이템 수 세기\n",
    "        for ele in ele_posts:\n",
    "            product_url= ele.find_element_by_tag_name('a').get_attribute('href')\n",
    "            if product_url not in product_set:\n",
    "                try:\n",
    "                    dict_post = { \"product_url\": product_url }\n",
    "                    dict_post['key'] = dict_post['product_url'].split('/')[-2]\n",
    "                    wait.until(EC.presence_of_element_located((By.CLASS_NAME, 'ImageLoader.ratio_1_1.loaded')))\n",
    "                    ele_img = ele.find_element_by_class_name('ImageLoader.ratio_1_1.loaded')\n",
    "                    dict_post[\"img_url\"] = ele_img.get_attribute(\"src\")\n",
    "                    dict_post[\"sub_category\"] = category_dict[cat][\"sub_category\"]\n",
    "                    dict_post[\"category\"] = category_dict[cat][\"category\"]\n",
    "                    dict_post[\"super_category\"] = category_dict[cat][\"super_category\"]\n",
    "\n",
    "                    product_set.add(product_url)\n",
    "                    \n",
    "                    if isfirst == True:\n",
    "                        out = json.dumps(dict_post, ensure_ascii=False)    #json 형식으로 정보 변환\n",
    "                        out += ', '    #아이템 정보 분류하기 위해 끝에 쉼표 추가\n",
    "                        with open(filepath, \"a\", encoding=\"utf-8\") as f:\n",
    "                            f.write(out)\n",
    "                    else: existing.append(dict_post)\n",
    "                        \n",
    "                    cat_post_count +=1\n",
    "                except: continue\n",
    "        \n",
    "        isntfirst_txt=''\n",
    "        if isfirst == False : isntfirst_txt=' additionally'\n",
    "        print(\"saved {} items from {} section{}\".format(cat_post_count, category_dict[cat]['name'], isntfirst_txt))\n",
    "    \n",
    "    \n",
    "    if isfirst == False :\n",
    "        #업데이트 할 내용 없으면 return\n",
    "        if count_existing == len(existing) :\n",
    "            browser.close()\n",
    "            return\n",
    "        \n",
    "        #저장파일명에 현재시간 추가\n",
    "        now = time.localtime()\n",
    "        filepath_temp = '_'.join(os.path.splitext(filepath)[0].split('_')[:-2])\n",
    "        filepath = filepath_temp +'_'+time.strftime('%y%m%d_%I%M%S', now) + os.path.splitext(filepath)[1]\n",
    "        \n",
    "        #카테고리 다 돈 다음 한번에 저장\n",
    "        with open(filepath, 'a', encoding='utf-8') as f:\n",
    "            f.write(json.dumps(existing))\n",
    "    \n",
    "    \n",
    "    print('saved as {}'.format(filepath_new))\n",
    "    browser.close()"
   ]
  },
  {
   "cell_type": "markdown",
   "metadata": {},
   "source": [
    "# 2.1 첫 크롤링 할 때"
   ]
  },
  {
   "cell_type": "code",
   "execution_count": 9,
   "metadata": {
    "ExecuteTime": {
     "end_time": "2020-05-29T02:29:02.731839Z",
     "start_time": "2020-05-29T01:14:11.108419Z"
    },
    "scrolled": true
   },
   "outputs": [
    {
     "name": "stdout",
     "output_type": "stream",
     "text": [
      "saved 1002 items from 롱슬리브 section\n",
      "saved 1002 items from 숏슬리브 section\n",
      "saved 957 items from 슬리브리스 section\n",
      "saved 879 items from 크롭 탑 section\n",
      "saved 370 items from 폴로 셔츠 section\n",
      "saved 948 items from 후디 section\n",
      "saved 990 items from 스웨트셔츠 section\n",
      "saved 962 items from 집업후디 section\n",
      "saved 1001 items from 롱 슬리브 section\n",
      "saved 981 items from 숏 슬리브 section\n",
      "saved 896 items from 블라우스 section\n",
      "saved 992 items from 라운드넥 section\n",
      "saved 276 items from 브이넥 section\n",
      "saved 418 items from 터틀넥 section\n",
      "saved 173 items from 베스트 section\n",
      "saved 772 items from 가디건 section\n",
      "saved 977 items from 미니 section\n",
      "saved 973 items from 미디/롱 section\n",
      "saved 391 items from 치노 section\n",
      "saved 962 items from 스웨트팬츠 section\n",
      "saved 926 items from 스트레이트 section\n",
      "saved 924 items from 와이드 section\n",
      "saved 53 items from 스키니 section\n",
      "saved 158 items from 부츠컷 section\n",
      "saved 956 items from 쇼츠 section\n",
      "saved 362 items from 레깅스 section\n",
      "saved 734 items from 스트레이트 section\n",
      "saved 331 items from 와이드 section\n",
      "saved 165 items from 스키니 section\n",
      "saved 127 items from 부츠컷 section\n",
      "saved 69 items from 크롭 section\n",
      "saved 56 items from 스커트 section\n",
      "saved 232 items from 쇼츠 section\n",
      "saved 987 items from 미니 section\n"
     ]
    },
    {
     "ename": "NoSuchElementException",
     "evalue": "Message: no such element: Unable to locate element: {\"method\":\"css selector\",\"selector\":\".ImageLoader.ratio_1_1.loaded\"}\n  (Session info: chrome=83.0.4103.61)\n",
     "output_type": "error",
     "traceback": [
      "\u001b[1;31m---------------------------------------------------------------------------\u001b[0m",
      "\u001b[1;31mNoSuchElementException\u001b[0m                    Traceback (most recent call last)",
      "\u001b[1;32m<ipython-input-9-d35486e2a233>\u001b[0m in \u001b[0;36m<module>\u001b[1;34m\u001b[0m\n\u001b[0;32m      5\u001b[0m \u001b[1;33m\u001b[0m\u001b[0m\n\u001b[0;32m      6\u001b[0m \u001b[1;31m#크롤링\u001b[0m\u001b[1;33m\u001b[0m\u001b[1;33m\u001b[0m\u001b[1;33m\u001b[0m\u001b[0m\n\u001b[1;32m----> 7\u001b[1;33m \u001b[0mget_products\u001b[0m\u001b[1;33m(\u001b[0m\u001b[0mcategory_dict\u001b[0m\u001b[1;33m,\u001b[0m \u001b[1;36m1000\u001b[0m\u001b[1;33m,\u001b[0m \u001b[0mfilepath\u001b[0m\u001b[1;33m,\u001b[0m \u001b[1;36m300\u001b[0m\u001b[1;33m)\u001b[0m\u001b[1;33m\u001b[0m\u001b[1;33m\u001b[0m\u001b[0m\n\u001b[0m",
      "\u001b[1;32m<ipython-input-7-584c8791e97a>\u001b[0m in \u001b[0;36mget_products\u001b[1;34m(category_dict, num, filepath, wait_time)\u001b[0m\n\u001b[0;32m     51\u001b[0m                 \u001b[0mdict_post\u001b[0m \u001b[1;33m=\u001b[0m \u001b[1;33m{\u001b[0m \u001b[1;34m\"product_url\"\u001b[0m\u001b[1;33m:\u001b[0m \u001b[0mproduct_url\u001b[0m \u001b[1;33m}\u001b[0m\u001b[1;33m\u001b[0m\u001b[1;33m\u001b[0m\u001b[0m\n\u001b[0;32m     52\u001b[0m                 \u001b[0mwait\u001b[0m\u001b[1;33m.\u001b[0m\u001b[0muntil\u001b[0m\u001b[1;33m(\u001b[0m\u001b[0mEC\u001b[0m\u001b[1;33m.\u001b[0m\u001b[0mpresence_of_element_located\u001b[0m\u001b[1;33m(\u001b[0m\u001b[1;33m(\u001b[0m\u001b[0mBy\u001b[0m\u001b[1;33m.\u001b[0m\u001b[0mCLASS_NAME\u001b[0m\u001b[1;33m,\u001b[0m \u001b[1;34m'ImageLoader.ratio_1_1.loaded'\u001b[0m\u001b[1;33m)\u001b[0m\u001b[1;33m)\u001b[0m\u001b[1;33m)\u001b[0m\u001b[1;33m\u001b[0m\u001b[1;33m\u001b[0m\u001b[0m\n\u001b[1;32m---> 53\u001b[1;33m                 \u001b[0mele_img\u001b[0m \u001b[1;33m=\u001b[0m \u001b[0mele\u001b[0m\u001b[1;33m.\u001b[0m\u001b[0mfind_element_by_class_name\u001b[0m\u001b[1;33m(\u001b[0m\u001b[1;34m'ImageLoader.ratio_1_1.loaded'\u001b[0m\u001b[1;33m)\u001b[0m\u001b[1;33m\u001b[0m\u001b[1;33m\u001b[0m\u001b[0m\n\u001b[0m\u001b[0;32m     54\u001b[0m                 \u001b[0mdict_post\u001b[0m\u001b[1;33m[\u001b[0m\u001b[1;34m\"img_url\"\u001b[0m\u001b[1;33m]\u001b[0m \u001b[1;33m=\u001b[0m \u001b[0mele_img\u001b[0m\u001b[1;33m.\u001b[0m\u001b[0mget_attribute\u001b[0m\u001b[1;33m(\u001b[0m\u001b[1;34m\"src\"\u001b[0m\u001b[1;33m)\u001b[0m\u001b[1;33m\u001b[0m\u001b[1;33m\u001b[0m\u001b[0m\n\u001b[0;32m     55\u001b[0m                 \u001b[0mdict_post\u001b[0m\u001b[1;33m[\u001b[0m\u001b[1;34m\"sub_category\"\u001b[0m\u001b[1;33m]\u001b[0m \u001b[1;33m=\u001b[0m \u001b[0mcategory_dict\u001b[0m\u001b[1;33m[\u001b[0m\u001b[0mcat\u001b[0m\u001b[1;33m]\u001b[0m\u001b[1;33m[\u001b[0m\u001b[1;34m\"sub_category\"\u001b[0m\u001b[1;33m]\u001b[0m\u001b[1;33m\u001b[0m\u001b[1;33m\u001b[0m\u001b[0m\n",
      "\u001b[1;32m~\\anaconda3\\lib\\site-packages\\selenium\\webdriver\\remote\\webelement.py\u001b[0m in \u001b[0;36mfind_element_by_class_name\u001b[1;34m(self, name)\u001b[0m\n\u001b[0;32m    396\u001b[0m             \u001b[0melement\u001b[0m \u001b[1;33m=\u001b[0m \u001b[0melement\u001b[0m\u001b[1;33m.\u001b[0m\u001b[0mfind_element_by_class_name\u001b[0m\u001b[1;33m(\u001b[0m\u001b[1;34m'foo'\u001b[0m\u001b[1;33m)\u001b[0m\u001b[1;33m\u001b[0m\u001b[1;33m\u001b[0m\u001b[0m\n\u001b[0;32m    397\u001b[0m         \"\"\"\n\u001b[1;32m--> 398\u001b[1;33m         \u001b[1;32mreturn\u001b[0m \u001b[0mself\u001b[0m\u001b[1;33m.\u001b[0m\u001b[0mfind_element\u001b[0m\u001b[1;33m(\u001b[0m\u001b[0mby\u001b[0m\u001b[1;33m=\u001b[0m\u001b[0mBy\u001b[0m\u001b[1;33m.\u001b[0m\u001b[0mCLASS_NAME\u001b[0m\u001b[1;33m,\u001b[0m \u001b[0mvalue\u001b[0m\u001b[1;33m=\u001b[0m\u001b[0mname\u001b[0m\u001b[1;33m)\u001b[0m\u001b[1;33m\u001b[0m\u001b[1;33m\u001b[0m\u001b[0m\n\u001b[0m\u001b[0;32m    399\u001b[0m \u001b[1;33m\u001b[0m\u001b[0m\n\u001b[0;32m    400\u001b[0m     \u001b[1;32mdef\u001b[0m \u001b[0mfind_elements_by_class_name\u001b[0m\u001b[1;33m(\u001b[0m\u001b[0mself\u001b[0m\u001b[1;33m,\u001b[0m \u001b[0mname\u001b[0m\u001b[1;33m)\u001b[0m\u001b[1;33m:\u001b[0m\u001b[1;33m\u001b[0m\u001b[1;33m\u001b[0m\u001b[0m\n",
      "\u001b[1;32m~\\anaconda3\\lib\\site-packages\\selenium\\webdriver\\remote\\webelement.py\u001b[0m in \u001b[0;36mfind_element\u001b[1;34m(self, by, value)\u001b[0m\n\u001b[0;32m    657\u001b[0m \u001b[1;33m\u001b[0m\u001b[0m\n\u001b[0;32m    658\u001b[0m         return self._execute(Command.FIND_CHILD_ELEMENT,\n\u001b[1;32m--> 659\u001b[1;33m                              {\"using\": by, \"value\": value})['value']\n\u001b[0m\u001b[0;32m    660\u001b[0m \u001b[1;33m\u001b[0m\u001b[0m\n\u001b[0;32m    661\u001b[0m     \u001b[1;32mdef\u001b[0m \u001b[0mfind_elements\u001b[0m\u001b[1;33m(\u001b[0m\u001b[0mself\u001b[0m\u001b[1;33m,\u001b[0m \u001b[0mby\u001b[0m\u001b[1;33m=\u001b[0m\u001b[0mBy\u001b[0m\u001b[1;33m.\u001b[0m\u001b[0mID\u001b[0m\u001b[1;33m,\u001b[0m \u001b[0mvalue\u001b[0m\u001b[1;33m=\u001b[0m\u001b[1;32mNone\u001b[0m\u001b[1;33m)\u001b[0m\u001b[1;33m:\u001b[0m\u001b[1;33m\u001b[0m\u001b[1;33m\u001b[0m\u001b[0m\n",
      "\u001b[1;32m~\\anaconda3\\lib\\site-packages\\selenium\\webdriver\\remote\\webelement.py\u001b[0m in \u001b[0;36m_execute\u001b[1;34m(self, command, params)\u001b[0m\n\u001b[0;32m    631\u001b[0m             \u001b[0mparams\u001b[0m \u001b[1;33m=\u001b[0m \u001b[1;33m{\u001b[0m\u001b[1;33m}\u001b[0m\u001b[1;33m\u001b[0m\u001b[1;33m\u001b[0m\u001b[0m\n\u001b[0;32m    632\u001b[0m         \u001b[0mparams\u001b[0m\u001b[1;33m[\u001b[0m\u001b[1;34m'id'\u001b[0m\u001b[1;33m]\u001b[0m \u001b[1;33m=\u001b[0m \u001b[0mself\u001b[0m\u001b[1;33m.\u001b[0m\u001b[0m_id\u001b[0m\u001b[1;33m\u001b[0m\u001b[1;33m\u001b[0m\u001b[0m\n\u001b[1;32m--> 633\u001b[1;33m         \u001b[1;32mreturn\u001b[0m \u001b[0mself\u001b[0m\u001b[1;33m.\u001b[0m\u001b[0m_parent\u001b[0m\u001b[1;33m.\u001b[0m\u001b[0mexecute\u001b[0m\u001b[1;33m(\u001b[0m\u001b[0mcommand\u001b[0m\u001b[1;33m,\u001b[0m \u001b[0mparams\u001b[0m\u001b[1;33m)\u001b[0m\u001b[1;33m\u001b[0m\u001b[1;33m\u001b[0m\u001b[0m\n\u001b[0m\u001b[0;32m    634\u001b[0m \u001b[1;33m\u001b[0m\u001b[0m\n\u001b[0;32m    635\u001b[0m     \u001b[1;32mdef\u001b[0m \u001b[0mfind_element\u001b[0m\u001b[1;33m(\u001b[0m\u001b[0mself\u001b[0m\u001b[1;33m,\u001b[0m \u001b[0mby\u001b[0m\u001b[1;33m=\u001b[0m\u001b[0mBy\u001b[0m\u001b[1;33m.\u001b[0m\u001b[0mID\u001b[0m\u001b[1;33m,\u001b[0m \u001b[0mvalue\u001b[0m\u001b[1;33m=\u001b[0m\u001b[1;32mNone\u001b[0m\u001b[1;33m)\u001b[0m\u001b[1;33m:\u001b[0m\u001b[1;33m\u001b[0m\u001b[1;33m\u001b[0m\u001b[0m\n",
      "\u001b[1;32m~\\anaconda3\\lib\\site-packages\\selenium\\webdriver\\remote\\webdriver.py\u001b[0m in \u001b[0;36mexecute\u001b[1;34m(self, driver_command, params)\u001b[0m\n\u001b[0;32m    319\u001b[0m         \u001b[0mresponse\u001b[0m \u001b[1;33m=\u001b[0m \u001b[0mself\u001b[0m\u001b[1;33m.\u001b[0m\u001b[0mcommand_executor\u001b[0m\u001b[1;33m.\u001b[0m\u001b[0mexecute\u001b[0m\u001b[1;33m(\u001b[0m\u001b[0mdriver_command\u001b[0m\u001b[1;33m,\u001b[0m \u001b[0mparams\u001b[0m\u001b[1;33m)\u001b[0m\u001b[1;33m\u001b[0m\u001b[1;33m\u001b[0m\u001b[0m\n\u001b[0;32m    320\u001b[0m         \u001b[1;32mif\u001b[0m \u001b[0mresponse\u001b[0m\u001b[1;33m:\u001b[0m\u001b[1;33m\u001b[0m\u001b[1;33m\u001b[0m\u001b[0m\n\u001b[1;32m--> 321\u001b[1;33m             \u001b[0mself\u001b[0m\u001b[1;33m.\u001b[0m\u001b[0merror_handler\u001b[0m\u001b[1;33m.\u001b[0m\u001b[0mcheck_response\u001b[0m\u001b[1;33m(\u001b[0m\u001b[0mresponse\u001b[0m\u001b[1;33m)\u001b[0m\u001b[1;33m\u001b[0m\u001b[1;33m\u001b[0m\u001b[0m\n\u001b[0m\u001b[0;32m    322\u001b[0m             response['value'] = self._unwrap_value(\n\u001b[0;32m    323\u001b[0m                 response.get('value', None))\n",
      "\u001b[1;32m~\\anaconda3\\lib\\site-packages\\selenium\\webdriver\\remote\\errorhandler.py\u001b[0m in \u001b[0;36mcheck_response\u001b[1;34m(self, response)\u001b[0m\n\u001b[0;32m    240\u001b[0m                 \u001b[0malert_text\u001b[0m \u001b[1;33m=\u001b[0m \u001b[0mvalue\u001b[0m\u001b[1;33m[\u001b[0m\u001b[1;34m'alert'\u001b[0m\u001b[1;33m]\u001b[0m\u001b[1;33m.\u001b[0m\u001b[0mget\u001b[0m\u001b[1;33m(\u001b[0m\u001b[1;34m'text'\u001b[0m\u001b[1;33m)\u001b[0m\u001b[1;33m\u001b[0m\u001b[1;33m\u001b[0m\u001b[0m\n\u001b[0;32m    241\u001b[0m             \u001b[1;32mraise\u001b[0m \u001b[0mexception_class\u001b[0m\u001b[1;33m(\u001b[0m\u001b[0mmessage\u001b[0m\u001b[1;33m,\u001b[0m \u001b[0mscreen\u001b[0m\u001b[1;33m,\u001b[0m \u001b[0mstacktrace\u001b[0m\u001b[1;33m,\u001b[0m \u001b[0malert_text\u001b[0m\u001b[1;33m)\u001b[0m\u001b[1;33m\u001b[0m\u001b[1;33m\u001b[0m\u001b[0m\n\u001b[1;32m--> 242\u001b[1;33m         \u001b[1;32mraise\u001b[0m \u001b[0mexception_class\u001b[0m\u001b[1;33m(\u001b[0m\u001b[0mmessage\u001b[0m\u001b[1;33m,\u001b[0m \u001b[0mscreen\u001b[0m\u001b[1;33m,\u001b[0m \u001b[0mstacktrace\u001b[0m\u001b[1;33m)\u001b[0m\u001b[1;33m\u001b[0m\u001b[1;33m\u001b[0m\u001b[0m\n\u001b[0m\u001b[0;32m    243\u001b[0m \u001b[1;33m\u001b[0m\u001b[0m\n\u001b[0;32m    244\u001b[0m     \u001b[1;32mdef\u001b[0m \u001b[0m_value_or_default\u001b[0m\u001b[1;33m(\u001b[0m\u001b[0mself\u001b[0m\u001b[1;33m,\u001b[0m \u001b[0mobj\u001b[0m\u001b[1;33m,\u001b[0m \u001b[0mkey\u001b[0m\u001b[1;33m,\u001b[0m \u001b[0mdefault\u001b[0m\u001b[1;33m)\u001b[0m\u001b[1;33m:\u001b[0m\u001b[1;33m\u001b[0m\u001b[1;33m\u001b[0m\u001b[0m\n",
      "\u001b[1;31mNoSuchElementException\u001b[0m: Message: no such element: Unable to locate element: {\"method\":\"css selector\",\"selector\":\".ImageLoader.ratio_1_1.loaded\"}\n  (Session info: chrome=83.0.4103.61)\n"
     ]
    }
   ],
   "source": [
    "filepath = 'result/categorized_tong.json'\n",
    "\n",
    "if not filepath:  #파일 없을 경우 만들어주기\n",
    "    open(filepath, 'a').close()\n",
    "        \n",
    "#크롤링\n",
    "get_products(category_dict, 1000, filepath, 300)"
   ]
  },
  {
   "cell_type": "markdown",
   "metadata": {},
   "source": [
    "# 2.2 업데이트 위한 크롤링 할 때\n",
    "2.1에 **중복확인** 코드 추가됨"
   ]
  },
  {
   "cell_type": "code",
   "execution_count": 18,
   "metadata": {
    "scrolled": true
   },
   "outputs": [
    {
     "name": "stdout",
     "output_type": "stream",
     "text": [
      "start at 2020-06-01 01:32:24 AM\n",
      "saved 5 items from 롱슬리브 section additionally\n",
      "saved 119 items from 숏슬리브 section additionally\n",
      "saved 22 items from 슬리브리스 section additionally\n",
      "saved 11 items from 크롭 탑 section additionally\n",
      "saved 8 items from 폴로 셔츠 section additionally\n",
      "saved 2 items from 후디 section additionally\n",
      "saved 2 items from 스웨트셔츠 section additionally\n",
      "집업후디 is up to date\n",
      "saved 0 items from 집업후디 section additionally\n",
      "saved 5 items from 롱 슬리브 section additionally\n",
      "saved 14 items from 숏 슬리브 section additionally\n",
      "블라우스 is up to date\n",
      "saved 0 items from 블라우스 section additionally\n",
      "saved 5 items from 라운드넥 section additionally\n",
      "saved 2 items from 브이넥 section additionally\n",
      "터틀넥 is up to date\n",
      "saved 0 items from 터틀넥 section additionally\n",
      "베스트 is up to date\n",
      "saved 1 items from 베스트 section additionally\n",
      "가디건 is up to date\n",
      "saved 0 items from 가디건 section additionally\n",
      "saved 16 items from 미니 section additionally\n",
      "미디/롱 is up to date\n",
      "saved 0 items from 미디/롱 section additionally\n",
      "치노 is up to date\n",
      "saved 0 items from 치노 section additionally\n",
      "스웨트팬츠 is up to date\n",
      "saved 0 items from 스웨트팬츠 section additionally\n",
      "saved 19 items from 스트레이트 section additionally\n",
      "saved 1 items from 와이드 section additionally\n",
      "스키니 is up to date\n",
      "saved 0 items from 스키니 section additionally\n",
      "부츠컷 is up to date\n",
      "saved 2 items from 부츠컷 section additionally\n",
      "saved 37 items from 쇼츠 section additionally\n",
      "saved 1 items from 레깅스 section additionally\n",
      "스트레이트 is up to date\n",
      "saved 0 items from 스트레이트 section additionally\n",
      "와이드 is up to date\n",
      "saved 0 items from 와이드 section additionally\n",
      "스키니 is up to date\n",
      "saved 0 items from 스키니 section additionally\n",
      "부츠컷 is up to date\n",
      "saved 0 items from 부츠컷 section additionally\n",
      "크롭 is up to date\n",
      "saved 0 items from 크롭 section additionally\n",
      "스커트 is up to date\n",
      "saved 0 items from 스커트 section additionally\n",
      "saved 6 items from 쇼츠 section additionally\n",
      "saved 5 items from 미니 section additionally\n",
      "saved 16 items from 미디/맥시 section additionally\n",
      "드레스 is up to date\n",
      "saved 0 items from 드레스 section additionally\n",
      "올인원 is up to date\n",
      "saved 0 items from 올인원 section additionally\n",
      "saved 3 items from 점프수트 section additionally\n",
      "saved as result/categorized_tong_200601_013526.json\n"
     ]
    }
   ],
   "source": [
    "filepath = 'result/categorized_tong_200530_prev.json'\n",
    "get_products(category_dict, 1000, filepath, 300, isfirst=False)"
   ]
  },
  {
   "cell_type": "markdown",
   "metadata": {},
   "source": [
    "# 3. 결과 확인하기"
   ]
  },
  {
   "cell_type": "code",
   "execution_count": 21,
   "metadata": {},
   "outputs": [],
   "source": [
    "#항목 수 확인하기\n",
    "def callen(filepath) :\n",
    "    with open(filepath, 'r', encoding = 'utf-8') as f:\n",
    "        file = f.read()\n",
    "    return len(file.split('},'))"
   ]
  },
  {
   "cell_type": "code",
   "execution_count": 23,
   "metadata": {},
   "outputs": [
    {
     "data": {
      "text/plain": [
       "25266"
      ]
     },
     "execution_count": 23,
     "metadata": {},
     "output_type": "execute_result"
    }
   ],
   "source": [
    "callen('result/categorized_tong_200530_prev.json')"
   ]
  },
  {
   "cell_type": "code",
   "execution_count": 24,
   "metadata": {
    "ExecuteTime": {
     "end_time": "2020-05-29T05:12:10.256976Z",
     "start_time": "2020-05-29T05:12:10.234881Z"
    }
   },
   "outputs": [
    {
     "data": {
      "text/plain": [
       "25568"
      ]
     },
     "execution_count": 24,
     "metadata": {},
     "output_type": "execute_result"
    }
   ],
   "source": [
    "callen('result/categorized_tong_200601_013526.json')"
   ]
  },
  {
   "cell_type": "code",
   "execution_count": null,
   "metadata": {},
   "outputs": [],
   "source": []
  }
 ],
 "metadata": {
  "kernelspec": {
   "display_name": "Python 3",
   "language": "python",
   "name": "python3"
  },
  "language_info": {
   "codemirror_mode": {
    "name": "ipython",
    "version": 3
   },
   "file_extension": ".py",
   "mimetype": "text/x-python",
   "name": "python",
   "nbconvert_exporter": "python",
   "pygments_lexer": "ipython3",
   "version": "3.6.10"
  },
  "varInspector": {
   "cols": {
    "lenName": 16,
    "lenType": 16,
    "lenVar": 40
   },
   "kernels_config": {
    "python": {
     "delete_cmd_postfix": "",
     "delete_cmd_prefix": "del ",
     "library": "var_list.py",
     "varRefreshCmd": "print(var_dic_list())"
    },
    "r": {
     "delete_cmd_postfix": ") ",
     "delete_cmd_prefix": "rm(",
     "library": "var_list.r",
     "varRefreshCmd": "cat(var_dic_list()) "
    }
   },
   "types_to_exclude": [
    "module",
    "function",
    "builtin_function_or_method",
    "instance",
    "_Feature"
   ],
   "window_display": false
  }
 },
 "nbformat": 4,
 "nbformat_minor": 2
}
